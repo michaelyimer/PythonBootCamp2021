{
 "cells": [
  {
   "cell_type": "markdown",
   "metadata": {},
   "source": [
    "### Repetition Statement - Loop"
   ]
  },
  {
   "cell_type": "code",
   "execution_count": null,
   "metadata": {},
   "outputs": [],
   "source": [
    "# counter loop\n",
    "\n",
    "for item in [1, 2, 3, 4, 5] :\n",
    "    print(item)"
   ]
  },
  {
   "cell_type": "code",
   "execution_count": null,
   "metadata": {},
   "outputs": [],
   "source": [
    "# range() built-in function\n",
    "\n",
    "for item in range(1, 11, 2) :\n",
    "    print(item)"
   ]
  },
  {
   "cell_type": "code",
   "execution_count": null,
   "metadata": {},
   "outputs": [],
   "source": [
    "# conditional loop - infinite loop\n",
    "item = \"test\"\n",
    "while True :\n",
    "    print(item)"
   ]
  },
  {
   "cell_type": "code",
   "execution_count": null,
   "metadata": {},
   "outputs": [],
   "source": [
    "item = 1\n",
    "while item <= 5 :\n",
    "    print(item)\n",
    "    item += 1"
   ]
  },
  {
   "cell_type": "code",
   "execution_count": null,
   "metadata": {},
   "outputs": [],
   "source": [
    "dwarves = [\"Happy\", \"Grumpy\", \"Sleepy\", \"Bashful\", \"Sneezy\", \"Doc\", \"Dopey\"]\n",
    "\n",
    "print(f\"\\nThere are {len(dwarves)} dwarves and Snow White\")\n",
    "for dwarf in dwarves : \n",
    "    print(dwarf)\n",
    "    "
   ]
  },
  {
   "cell_type": "code",
   "execution_count": null,
   "metadata": {},
   "outputs": [],
   "source": [
    "while dwarf in dwarves :\n",
    "    print(dwarf)"
   ]
  },
  {
   "cell_type": "code",
   "execution_count": null,
   "metadata": {},
   "outputs": [],
   "source": [
    "idx = 0\n",
    "while idx < len(dwarves) :\n",
    "    print(dwarves[idx])\n",
    "    idx += 1"
   ]
  },
  {
   "cell_type": "code",
   "execution_count": null,
   "metadata": {},
   "outputs": [],
   "source": [
    "go = True\n",
    "\n",
    "while go :\n",
    "    numb = int(input(\"Enter a number between 1 and 10: \"))\n",
    "    \n",
    "    if numb < 1 or numb > 10 :\n",
    "        go = False\n",
    "    else :\n",
    "        print(\"*\" * numb)\n",
    "    \n",
    "print(\"Bye!\")    "
   ]
  },
  {
   "cell_type": "code",
   "execution_count": 2,
   "metadata": {},
   "outputs": [
    {
     "name": "stdout",
     "output_type": "stream",
     "text": [
      "Enter a score: 10\n",
      "Do you want to continue (y/n)? 20\n",
      "Enter a score: 30\n",
      "Do you want to continue (y/n)? y\n",
      "Enter a score: 20\n",
      "Do you want to continue (y/n)? N\n",
      "[10, 30, 20]\n",
      "avg score is 20.00\n"
     ]
    }
   ],
   "source": [
    "# Accept scores from user and save scores in a list. \n",
    "# Then calculate the sum of all scores and their average score.\n",
    "# Finally, print out all scores and their average\n",
    "\n",
    "total = 0\n",
    "answer = ''\n",
    "scores = []\n",
    "\n",
    "while answer.lower() != 'n' :\n",
    "    num = int(input(\"Enter a score: \"))\n",
    "    scores.append(num)\n",
    "    total += num\n",
    "    answer = input(\"Do you want to continue (y/n)? \")\n",
    "    \n",
    "avg = total / len(scores)\n",
    "print(scores)\n",
    "print(f\"avg score is {avg:.2f}\")"
   ]
  },
  {
   "cell_type": "markdown",
   "metadata": {},
   "source": [
    "### Exercise 1\n",
    "shopping = [\"bread\", \"milk\", \"chicken\", \"lettuce\", \"onion\"]\n",
    "\n",
    "Given a shopping list, sort the list in alphabetical order. Then, print out each item in the list using a loop.\n"
   ]
  },
  {
   "cell_type": "code",
   "execution_count": 2,
   "metadata": {},
   "outputs": [
    {
     "name": "stdout",
     "output_type": "stream",
     "text": [
      "bread\n",
      "chicken\n",
      "lettuce\n",
      "milk\n",
      "onion\n"
     ]
    }
   ],
   "source": [
    "shopping = [\"bread\", \"milk\", \"chicken\", \"lettuce\", \"onion\"]\n",
    "\n",
    "# sort the list\n",
    "\n",
    "\n",
    "# using a loop, print out each item in the sorted list\n",
    "\n",
    "\n"
   ]
  },
  {
   "cell_type": "code",
   "execution_count": null,
   "metadata": {},
   "outputs": [],
   "source": []
  },
  {
   "cell_type": "markdown",
   "metadata": {},
   "source": [
    "### break and continue statements"
   ]
  },
  {
   "cell_type": "code",
   "execution_count": null,
   "metadata": {},
   "outputs": [],
   "source": [
    "# break statment\n",
    "\n",
    "while True :\n",
    "    numb = int(input(\"Enter a number between 1 and 10: \"))\n",
    "    \n",
    "    if numb < 1 or numb > 10 :\n",
    "        break\n",
    "    else :\n",
    "        print(\"*\" * numb)\n",
    "    \n",
    "print(\"Bye!\")    "
   ]
  },
  {
   "cell_type": "code",
   "execution_count": null,
   "metadata": {},
   "outputs": [],
   "source": [
    "answers = [\"A\",\"C\", \"\", \"B\", \"D\"]\n",
    "\n",
    "for answer in answers : \n",
    "    if answer == \"\" :\n",
    "        print(\"Incomplete\")\n",
    "        break\n",
    "        \n",
    "    print(answer)    \n",
    "    \n",
    "print(\"Done!\")    "
   ]
  },
  {
   "cell_type": "code",
   "execution_count": null,
   "metadata": {},
   "outputs": [],
   "source": [
    "# continue \n",
    "\n",
    "answers = [\"A\",\"C\", \"\", \"B\", \"D\"]\n",
    "\n",
    "for answer in answers : \n",
    "    if answer == \"\" :\n",
    "        print(\"Incomplete\")\n",
    "        continue\n",
    "        \n",
    "    print(answer)    \n",
    "    \n",
    "print(\"Done!\")    "
   ]
  },
  {
   "cell_type": "code",
   "execution_count": null,
   "metadata": {},
   "outputs": [],
   "source": [
    "i = 0\n",
    "while i <= 10 :\n",
    "    if i%2 == 0 :\n",
    "        i += 1\n",
    "        continue\n",
    "        \n",
    "    print(i)\n",
    "    i+= 1\n",
    "    \n",
    "print(\"Bye!\")    "
   ]
  },
  {
   "cell_type": "code",
   "execution_count": null,
   "metadata": {},
   "outputs": [],
   "source": [
    "i = 0\n",
    "while i < 10 :\n",
    "    i += 1\n",
    "    if i%2 == 0 :        \n",
    "        continue\n",
    "        \n",
    "    print(i)\n",
    "\n",
    "    \n",
    "print(\"Bye!\")    "
   ]
  },
  {
   "cell_type": "code",
   "execution_count": null,
   "metadata": {},
   "outputs": [],
   "source": [
    "# break and continue statements\n",
    "\n",
    "while True :\n",
    "    answer = input(\"Enter a grade (or 'q' to quit): \")\n",
    "    if answer == 'q' :\n",
    "        break    \n",
    "    elif answer == \"\" :\n",
    "        print(\"Incomplete\")\n",
    "        continue\n",
    "    else :\n",
    "        print(answer)    \n",
    "    \n",
    "print(\"Done!\")    "
   ]
  },
  {
   "cell_type": "markdown",
   "metadata": {},
   "source": [
    "### Exercise 2\n",
    "The purpose of a function called index is to return an index of a character in the given string. It returns -1 not found.\n",
    "Fix errors and show that it works.\n",
    "\n",
    "** similar to the index() method of a string\n"
   ]
  },
  {
   "cell_type": "code",
   "execution_count": null,
   "metadata": {},
   "outputs": [],
   "source": [
    "# original\n",
    "\n",
    "function index(string, char) \n",
    "    no = 0\n",
    "    found = false\n",
    "    \n",
    "    for ch in string\n",
    "        if ch == char\n",
    "            break\n",
    "            \n",
    "    if not found :\n",
    "        no = 0\n",
    "        \n",
    "    return no    "
   ]
  },
  {
   "cell_type": "code",
   "execution_count": null,
   "metadata": {},
   "outputs": [],
   "source": [
    "# main\n",
    "\n",
    "print(index(\"programming\", \"p\"))   # prints 0\n",
    "print(index(\"programming\", \"g\"))   # prints 3\n",
    "print(index(\"programming\", \"x\"))   # prints -1"
   ]
  },
  {
   "cell_type": "markdown",
   "metadata": {},
   "source": [
    "### Exercise 3\n",
    "If you make a one-time investment of $10,000 and you get 5% yearly interest, what will the value be after 20 years?\n",
    "Write your code using a <b>while</b> loop"
   ]
  },
  {
   "cell_type": "code",
   "execution_count": null,
   "metadata": {},
   "outputs": [],
   "source": [
    "investment = 10000\n",
    "year = 0\n",
    "while year < 20\n",
    "\n",
    "\n",
    "\n",
    "print(\"\")\n",
    "\n"
   ]
  },
  {
   "cell_type": "markdown",
   "metadata": {},
   "source": [
    "### Nested loops\n",
    "loop inside another loop"
   ]
  },
  {
   "cell_type": "code",
   "execution_count": null,
   "metadata": {},
   "outputs": [],
   "source": [
    "for outer in [\"first\", \"second\", \"third\"] :\n",
    "    print(outer)\n",
    "    \n",
    "    for inner in range(3) :\n",
    "        print(inner+1)"
   ]
  },
  {
   "cell_type": "code",
   "execution_count": null,
   "metadata": {},
   "outputs": [],
   "source": [
    "answer = 'y'\n",
    "while answer != 'n' :\n",
    "    index = int(input(\"Enter a number: \"))\n",
    "    for inner in range(index) :\n",
    "        print(inner+1)\n",
    "        \n",
    "    answer = input(\"Continue? (y/n)\")  \n",
    "    print(\"*\" * 20)\n",
    "\n",
    "print(\"Done!\")      "
   ]
  },
  {
   "cell_type": "code",
   "execution_count": null,
   "metadata": {},
   "outputs": [],
   "source": [
    "answer = 'y'\n",
    "questions = [\"your id\", \"your password\"]\n",
    "    \n",
    "while answer != 'n' :    \n",
    "    no_qs = len(questions)\n",
    "    for inner in range(no_qs) :\n",
    "        msg = \"What is \" + questions[inner] + \"? \"\n",
    "        answer = input(msg)\n",
    "    \n",
    "    answer = input(\"What is your additional security question? \")\n",
    "    questions.append(answer)\n",
    "    answer = input(\"Continue? (y/n)\")\n",
    "    print(\"*\" * 20)\n",
    "    \n",
    "print(\"Done!\")    "
   ]
  },
  {
   "cell_type": "code",
   "execution_count": 1,
   "metadata": {},
   "outputs": [
    {
     "name": "stdout",
     "output_type": "stream",
     "text": [
      "Enter a number: 10\n",
      "55\n"
     ]
    }
   ],
   "source": [
    "# Accept a number from user and calculate the sum of all number from 1 to the given number\n",
    "\n",
    "total = 0\n",
    "num = int(input(\"Enter a number: \"))\n",
    "for i in range(1, num+1) :\n",
    "    total += i\n",
    "    \n",
    "print(total)    "
   ]
  },
  {
   "cell_type": "markdown",
   "metadata": {},
   "source": [
    "### Exercise 4\n",
    "Fix code in the next cell to produce output as:\n",
    "\n",
    "    *\n",
    "    * *\n",
    "    * * *\n",
    "    * * * *\n",
    "    * * * * *"
   ]
  },
  {
   "cell_type": "code",
   "execution_count": null,
   "metadata": {},
   "outputs": [],
   "source": [
    "# original\n",
    "\n",
    "for i in range(1, 5) \n",
    "    for j in range(1, i) \n",
    "        print(f\"*\", end=' ')\n",
    "    print()    "
   ]
  },
  {
   "cell_type": "code",
   "execution_count": null,
   "metadata": {},
   "outputs": [],
   "source": []
  }
 ],
 "metadata": {
  "kernelspec": {
   "display_name": "Python 3",
   "language": "python",
   "name": "python3"
  },
  "language_info": {
   "codemirror_mode": {
    "name": "ipython",
    "version": 3
   },
   "file_extension": ".py",
   "mimetype": "text/x-python",
   "name": "python",
   "nbconvert_exporter": "python",
   "pygments_lexer": "ipython3",
   "version": "3.8.8"
  }
 },
 "nbformat": 4,
 "nbformat_minor": 2
}
