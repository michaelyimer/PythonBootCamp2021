{
 "cells": [
  {
   "cell_type": "markdown",
   "metadata": {},
   "source": [
    "### List\n",
    "1. Use numbers to index into a list, meaning you can use numbers to find out what’s in lists. \n",
    "2. List uses square brackets. [ ]\n",
    "\n",
    "what is inclusive and exclusive means in Python range / slicing? \n",
    "inclusive and exclusive refer to the last value: inclusive and it is included; exclusive anad it is excluded."
   ]
  },
  {
   "cell_type": "code",
   "execution_count": 1,
   "metadata": {},
   "outputs": [],
   "source": [
    "clothes = ['shirts', 'jacket', 'pants', 'shorts']   #store a list of items inside [] #\"array\" in other language\n",
    "scores = [99, 86, 79, 91, 88]"
   ]
  },
  {
   "cell_type": "code",
   "execution_count": 2,
   "metadata": {},
   "outputs": [
    {
     "name": "stdout",
     "output_type": "stream",
     "text": [
      "['shirts', 'jacket', 'pants', 'shorts']\n"
     ]
    }
   ],
   "source": [
    "print(clothes)    #contain the same data"
   ]
  },
  {
   "cell_type": "code",
   "execution_count": 3,
   "metadata": {},
   "outputs": [
    {
     "name": "stdout",
     "output_type": "stream",
     "text": [
      "['George Washington', 1789, 1797]\n"
     ]
    }
   ],
   "source": [
    "president1 = [\"George Washington\", 1789, 1797]   #Python allows list to contain different data type(including a list)\n",
    "print(president1)"
   ]
  },
  {
   "cell_type": "code",
   "execution_count": 4,
   "metadata": {},
   "outputs": [
    {
     "name": "stdout",
     "output_type": "stream",
     "text": [
      "[['George Washington', 1789, 1797], ['John Adams', 1797, 1801], ['Thomas Jefferson', 1801, 1809]]\n"
     ]
    }
   ],
   "source": [
    "president2 = [\"John Adams\", 1797, 1801]\n",
    "president3 = [\"Thomas Jefferson\", 1801, 1809]\n",
    "\n",
    "presidents = [president1, president2, president3] #list contain (lists)\n",
    "print(presidents)"
   ]
  },
  {
   "cell_type": "code",
   "execution_count": 6,
   "metadata": {},
   "outputs": [
    {
     "data": {
      "text/plain": [
       "'shirts'"
      ]
     },
     "execution_count": 6,
     "metadata": {},
     "output_type": "execute_result"
    }
   ],
   "source": [
    "clothes[0]"
   ]
  },
  {
   "cell_type": "code",
   "execution_count": 5,
   "metadata": {},
   "outputs": [
    {
     "name": "stdout",
     "output_type": "stream",
     "text": [
      "['shirts', 'jacket', 'pants', 'shorts']\n",
      "shirts\n"
     ]
    }
   ],
   "source": [
    "# indexing  #use to \"refer to an item from a list\"\n",
    "\n",
    "print(clothes)\n",
    "cloth = clothes[0]\n",
    "print(cloth)"
   ]
  },
  {
   "cell_type": "code",
   "execution_count": 7,
   "metadata": {},
   "outputs": [
    {
     "data": {
      "text/plain": [
       "4"
      ]
     },
     "execution_count": 7,
     "metadata": {},
     "output_type": "execute_result"
    }
   ],
   "source": [
    "len(clothes)"
   ]
  },
  {
   "cell_type": "code",
   "execution_count": 10,
   "metadata": {},
   "outputs": [
    {
     "ename": "IndexError",
     "evalue": "list index out of range",
     "output_type": "error",
     "traceback": [
      "\u001b[0;31m---------------------------------------------------------------------------\u001b[0m",
      "\u001b[0;31mIndexError\u001b[0m                                Traceback (most recent call last)",
      "\u001b[0;32m<ipython-input-10-cc922258d5cd>\u001b[0m in \u001b[0;36m<module>\u001b[0;34m\u001b[0m\n\u001b[0;32m----> 1\u001b[0;31m \u001b[0mclothes\u001b[0m\u001b[0;34m[\u001b[0m\u001b[0;36m4\u001b[0m\u001b[0;34m]\u001b[0m \u001b[0;31m#error because there is no item#4 on the list\u001b[0m\u001b[0;34m\u001b[0m\u001b[0;34m\u001b[0m\u001b[0m\n\u001b[0m",
      "\u001b[0;31mIndexError\u001b[0m: list index out of range"
     ]
    }
   ],
   "source": [
    "clothes[4] #error because there is no item#4 on the list"
   ]
  },
  {
   "cell_type": "code",
   "execution_count": 11,
   "metadata": {},
   "outputs": [
    {
     "name": "stdout",
     "output_type": "stream",
     "text": [
      "['shirts', 'jacket', 'pants', 'shorts']\n",
      "['shirts', 'jacket', 'pants', 'coat']\n"
     ]
    }
   ],
   "source": [
    "print(clothes)\n",
    "clothes[3] = \"coat\" #reassign item in the list, index 3 from \"shorts\" to \"coat\"\n",
    "print(clothes)"
   ]
  },
  {
   "cell_type": "code",
   "execution_count": 12,
   "metadata": {},
   "outputs": [
    {
     "name": "stdout",
     "output_type": "stream",
     "text": [
      "[99, 86, 79, 91, 88]\n"
     ]
    }
   ],
   "source": [
    "print(scores)"
   ]
  },
  {
   "cell_type": "code",
   "execution_count": 13,
   "metadata": {},
   "outputs": [
    {
     "name": "stdout",
     "output_type": "stream",
     "text": [
      "[86, 79]\n"
     ]
    }
   ],
   "source": [
    "# slicing\n",
    "\n",
    "new_scores = scores[1 : 3]  #from index positon 1 upto 3 but not including 3 [1:3]\n",
    "print(new_scores)"
   ]
  },
  {
   "cell_type": "code",
   "execution_count": 16,
   "metadata": {},
   "outputs": [
    {
     "name": "stdout",
     "output_type": "stream",
     "text": [
      "[['George Washington', 1789, 1797], ['John Adams', 1797, 1801], ['Thomas Jefferson', 1801, 1809]]\n"
     ]
    }
   ],
   "source": [
    "print(presidents)"
   ]
  },
  {
   "cell_type": "code",
   "execution_count": 17,
   "metadata": {},
   "outputs": [
    {
     "name": "stdout",
     "output_type": "stream",
     "text": [
      "['John Adams', 1797, 1801]\n"
     ]
    }
   ],
   "source": [
    "person = presidents[1] #presidents = contains 3 list inside [president1, president2, president3]\n",
    "print(person)"
   ]
  },
  {
   "cell_type": "code",
   "execution_count": 18,
   "metadata": {},
   "outputs": [
    {
     "name": "stdout",
     "output_type": "stream",
     "text": [
      "John Adams\n",
      "John Adams\n"
     ]
    }
   ],
   "source": [
    "print(person[0])           #call the index[0] from the list 'president1'\n",
    "print(presidents[1][0])"
   ]
  },
  {
   "cell_type": "code",
   "execution_count": 19,
   "metadata": {},
   "outputs": [
    {
     "name": "stdout",
     "output_type": "stream",
     "text": [
      "['George Washington', 1789, 1797]\n"
     ]
    }
   ],
   "source": [
    "print(presidents[0:2][0])   # why?   refer to index range 0 and 1, and print the index 0"
   ]
  },
  {
   "cell_type": "code",
   "execution_count": 20,
   "metadata": {
    "scrolled": true
   },
   "outputs": [
    {
     "name": "stdout",
     "output_type": "stream",
     "text": [
      "[['George Washington', 1789, 1797], ['John Adams', 1797, 1801]]\n"
     ]
    }
   ],
   "source": [
    "print(presidents[0:2])"
   ]
  },
  {
   "cell_type": "markdown",
   "metadata": {},
   "source": [
    "## Negative Indexing  \n",
    "use negative indexes to start counting the slice from the end of the string"
   ]
  },
  {
   "cell_type": "code",
   "execution_count": 21,
   "metadata": {},
   "outputs": [
    {
     "name": "stdout",
     "output_type": "stream",
     "text": [
      "1\n",
      "81\n"
     ]
    }
   ],
   "source": [
    "\n",
    "# remember, indexing returns an item\n",
    "\n",
    "# squares = [1, 4, 9, 16, 25, 36, 49, 64, 81]\n",
    "squares = [1, 4, 9, 16, 25, 36, 49, 64, 81]\n",
    "print(squares[0])\n",
    "print(squares[-1])"
   ]
  },
  {
   "cell_type": "code",
   "execution_count": 22,
   "metadata": {},
   "outputs": [
    {
     "name": "stdout",
     "output_type": "stream",
     "text": [
      "[49, 64, 81]\n"
     ]
    }
   ],
   "source": [
    "# slicing returns a new list\n",
    "\n",
    "print(squares[-3:]) #select from -3 index position **inclusive, and iterate untill the end of the list"
   ]
  },
  {
   "cell_type": "code",
   "execution_count": 23,
   "metadata": {},
   "outputs": [
    {
     "name": "stdout",
     "output_type": "stream",
     "text": [
      "[1, 4, 9, 16, 25, 36]\n"
     ]
    }
   ],
   "source": [
    "print(squares[:-3]) #start from -3 index but not including -3"
   ]
  },
  {
   "cell_type": "code",
   "execution_count": 24,
   "metadata": {},
   "outputs": [
    {
     "name": "stdout",
     "output_type": "stream",
     "text": [
      "[1, 4, 9, 16, 25, 36, 49, 64, 81]\n"
     ]
    }
   ],
   "source": [
    "#check 'squares'\n",
    "print(squares)"
   ]
  },
  {
   "cell_type": "code",
   "execution_count": 25,
   "metadata": {},
   "outputs": [
    {
     "name": "stdout",
     "output_type": "stream",
     "text": [
      "[1, 4, 9, 16, 25, 36, 49, 64, 81]\n",
      "[81, 64, 49, 36, 25, 16, 9, 4, 1]\n"
     ]
    }
   ],
   "source": [
    "# remember, slicing - [start(inclusive) : end (exclusive) : step (default is 1)]\n",
    "\n",
    "print(squares[:: 1])\n",
    "print(squares[:: -1])"
   ]
  },
  {
   "cell_type": "code",
   "execution_count": 26,
   "metadata": {},
   "outputs": [
    {
     "name": "stdout",
     "output_type": "stream",
     "text": [
      "[1, 4, 9, 16, 25, 36, 49, 64, 81]\n",
      "[9, 16, 25, 36, 49]\n",
      "[9, 25, 49]\n"
     ]
    }
   ],
   "source": [
    "print(squares)\n",
    "print(squares[2:7])   #default skip 1\n",
    "print(squares[2:7:2]) #skip 2"
   ]
  },
  {
   "cell_type": "code",
   "execution_count": 28,
   "metadata": {},
   "outputs": [
    {
     "name": "stdout",
     "output_type": "stream",
     "text": [
      "[1, 4, 9, 16, 25, 36, 49, 64, 81]\n",
      "[1]\n",
      "[1]\n",
      "[]\n",
      "[1, 4, 9, 16, 25, 36, 49, 64, 81]\n",
      "[1, 4, 9, 16, 25, 36, 49, 64, 81]\n",
      "[]\n"
     ]
    }
   ],
   "source": [
    "#same results\n",
    "print(squares)\n",
    "print(squares[0:1]) \n",
    "print(squares[:1])\n",
    "print(squares[0:0:1])\n",
    "print(squares[0::1])\n",
    "print(squares[::1])\n",
    "print(squares[:0:1])\n"
   ]
  },
  {
   "cell_type": "code",
   "execution_count": null,
   "metadata": {},
   "outputs": [],
   "source": [
    "print(squares)             # original list\n",
    "\n",
    "print(squares[::-1])       \n",
    "print(squares[:2:-1]) "
   ]
  },
  {
   "cell_type": "code",
   "execution_count": null,
   "metadata": {},
   "outputs": [],
   "source": [
    "print(squares)            \n",
    "print(squares[::-2])       \n",
    "print(squares[:2:-2])      "
   ]
  },
  {
   "cell_type": "code",
   "execution_count": null,
   "metadata": {},
   "outputs": [],
   "source": [
    "# initialize list\n",
    "shopping = []      \n",
    "scores = [0] *10   #0 is an item in the list\n",
    "names = [\"\"] *5    # is an item in the list\n",
    "chars = \"\" *5      "
   ]
  },
  {
   "cell_type": "code",
   "execution_count": null,
   "metadata": {},
   "outputs": [],
   "source": [
    "print(f\"{shopping} has a length of {len(shopping)}\")\n",
    "print(f\"{scores} has a length of {len(scores)}\")\n",
    "print(f\"{names} has a length of {len(names)}\")\n",
    "print(f\">>>{chars}<<< has a length of {len(chars)}\")"
   ]
  },
  {
   "cell_type": "code",
   "execution_count": null,
   "metadata": {},
   "outputs": [],
   "source": [
    "person = \"George Washington, 1789, 1797\"\n",
    "person_list = person.split()  #split by 'space' defalt\n",
    "print(person_list)"
   ]
  },
  {
   "cell_type": "code",
   "execution_count": null,
   "metadata": {},
   "outputs": [],
   "source": [
    "person.split(\"7\") #split by after number 7"
   ]
  },
  {
   "cell_type": "code",
   "execution_count": null,
   "metadata": {},
   "outputs": [],
   "source": [
    "person"
   ]
  },
  {
   "cell_type": "code",
   "execution_count": null,
   "metadata": {},
   "outputs": [],
   "source": [
    "person.split(\",\", 1) "
   ]
  },
  {
   "cell_type": "code",
   "execution_count": null,
   "metadata": {},
   "outputs": [],
   "source": [
    "person.split(\",\", 1)[0] "
   ]
  },
  {
   "cell_type": "code",
   "execution_count": null,
   "metadata": {},
   "outputs": [],
   "source": [
    "person.split(\",\", 1)[1] "
   ]
  },
  {
   "cell_type": "code",
   "execution_count": null,
   "metadata": {},
   "outputs": [],
   "source": [
    "msg = \"I'm just a simple man trying to make my way in the universe.\"\n",
    "msg_list = msg.split() #defalt split 'space'\n",
    "print(msg_list)"
   ]
  },
  {
   "cell_type": "code",
   "execution_count": null,
   "metadata": {},
   "outputs": [],
   "source": [
    "msg = \"I'm just a simple man trying to make my way in the universe.\"\n",
    "msg_list = msg.split('m') #split at every \"m\"\n",
    "print(msg_list)"
   ]
  },
  {
   "cell_type": "markdown",
   "metadata": {},
   "source": [
    "### Exercise 1\n",
    "Find the fourth word in a phrase, \"Python is a great first language\". \n",
    "First, split \"Python is a great first language\" into a list and then display the fourth word."
   ]
  },
  {
   "cell_type": "code",
   "execution_count": null,
   "metadata": {},
   "outputs": [],
   "source": [
    "word = \"Python is a great first language.\"\n",
    "word_s = word.split(\" \",10)[3]\n",
    "print(word_s)"
   ]
  },
  {
   "cell_type": "markdown",
   "metadata": {},
   "source": [
    "### List Methods \n",
    "add item to a list"
   ]
  },
  {
   "cell_type": "code",
   "execution_count": null,
   "metadata": {},
   "outputs": [],
   "source": [
    "print(squares)"
   ]
  },
  {
   "cell_type": "code",
   "execution_count": null,
   "metadata": {},
   "outputs": [],
   "source": [
    "len(squares)"
   ]
  },
  {
   "cell_type": "code",
   "execution_count": null,
   "metadata": {},
   "outputs": [],
   "source": [
    "squares[len(squares)]\n"
   ]
  },
  {
   "cell_type": "code",
   "execution_count": null,
   "metadata": {},
   "outputs": [],
   "source": [
    "squares[len(squares)] = 100"
   ]
  },
  {
   "cell_type": "code",
   "execution_count": null,
   "metadata": {},
   "outputs": [],
   "source": [
    "# list method - append()\n",
    "\n",
    "squares.append(100)\n",
    "print(squares)"
   ]
  },
  {
   "cell_type": "code",
   "execution_count": null,
   "metadata": {},
   "outputs": [],
   "source": [
    "items = [\"shirts\", \"hat\", \"shoes\"]\n",
    "items.append(99)\n",
    "print(items)"
   ]
  },
  {
   "cell_type": "code",
   "execution_count": null,
   "metadata": {},
   "outputs": [],
   "source": [
    "print(presidents)"
   ]
  },
  {
   "cell_type": "code",
   "execution_count": null,
   "metadata": {},
   "outputs": [],
   "source": [
    "#append (use with list data type only)\n",
    "person = []\n",
    "person.append(\"James Monroe\")\n",
    "person.append(1817)\n",
    "person.append(1825)\n",
    "print(person)"
   ]
  },
  {
   "cell_type": "code",
   "execution_count": null,
   "metadata": {},
   "outputs": [],
   "source": [
    "presidents.append(person)\n",
    "print(presidents)"
   ]
  },
  {
   "cell_type": "code",
   "execution_count": null,
   "metadata": {},
   "outputs": [],
   "source": [
    "person = []\n",
    "person.append(1809)\n",
    "person.append(1817)\n",
    "print(person)"
   ]
  },
  {
   "cell_type": "code",
   "execution_count": null,
   "metadata": {},
   "outputs": [],
   "source": [
    "# list method - insert() \n",
    "person.insert(0, \"James Madison\") \n",
    "print(person)"
   ]
  },
  {
   "cell_type": "code",
   "execution_count": null,
   "metadata": {},
   "outputs": [],
   "source": [
    "print(presidents)"
   ]
  },
  {
   "cell_type": "code",
   "execution_count": null,
   "metadata": {},
   "outputs": [],
   "source": [
    "presidents.insert(3, person) \n",
    "print(presidents)"
   ]
  },
  {
   "cell_type": "code",
   "execution_count": null,
   "metadata": {},
   "outputs": [],
   "source": [
    "# list method - extend() \n",
    "\n",
    "names = ['George Washington', 'John Adams', 'Thomas Jefferson']\n",
    "more_names = ['James Madison', 'James Monroe']\n",
    "\n",
    "org_names = names.copy()\n",
    "\n",
    "names.extend(more_names)\n",
    "\n",
    "print(f\"org_names:  {org_names}\")\n",
    "print(f\"names:      {names}\")\n",
    "print(f\"more_names: {more_names}\")"
   ]
  },
  {
   "cell_type": "code",
   "execution_count": null,
   "metadata": {},
   "outputs": [],
   "source": [
    "more_names.append(\"test\")  #append one item \"test\" at the end of the list\n",
    "\n",
    "print(f\"org_names:  {org_names}\")\n",
    "print(f\"names:      {names}\")\n",
    "print(f\"more_names: {more_names}\")"
   ]
  },
  {
   "cell_type": "code",
   "execution_count": null,
   "metadata": {},
   "outputs": [],
   "source": [
    "spring = [\"March\", \"April\", \"May\"]\n",
    "summer = [\"June\", \"July\", \"Aug\"]\n",
    "fall = [\"September\", \"October\", \"November\"]\n",
    "winter = [\"December\", \"January\", \"February\"]\n",
    "\n",
    "year = spring.copy()\n",
    "year.extend(summer)\n",
    "year.extend(fall)\n",
    "year.extend(winter)\n",
    "\n",
    "print(year)"
   ]
  },
  {
   "cell_type": "code",
   "execution_count": null,
   "metadata": {},
   "outputs": [],
   "source": [
    "print(spring, summer, fall, winter) "
   ]
  },
  {
   "cell_type": "code",
   "execution_count": null,
   "metadata": {},
   "outputs": [],
   "source": [
    "spr = spring.copy()  \n",
    "spr.extend(\"June\")  \n",
    "print(spr)     # what do you think? "
   ]
  },
  {
   "cell_type": "code",
   "execution_count": null,
   "metadata": {},
   "outputs": [],
   "source": [
    "spr = spring.copy()\n",
    "spr.extend([\"June\"])\n",
    "print(spr)     "
   ]
  },
  {
   "cell_type": "code",
   "execution_count": null,
   "metadata": {},
   "outputs": [],
   "source": []
  },
  {
   "cell_type": "code",
   "execution_count": null,
   "metadata": {},
   "outputs": [],
   "source": [
    "# list method - index()  \n",
    "print(person)\n",
    "person.index(\"James Madison\") "
   ]
  },
  {
   "cell_type": "code",
   "execution_count": null,
   "metadata": {},
   "outputs": [],
   "source": [
    "person.index(1809)"
   ]
  },
  {
   "cell_type": "code",
   "execution_count": null,
   "metadata": {},
   "outputs": [],
   "source": [
    "person.index(1819) #there's no 1891 in the list"
   ]
  },
  {
   "cell_type": "code",
   "execution_count": null,
   "metadata": {},
   "outputs": [],
   "source": [
    "print(person)\n",
    "print(presidents.index(person)) \n",
    "print(presidents)"
   ]
  },
  {
   "cell_type": "code",
   "execution_count": null,
   "metadata": {},
   "outputs": [],
   "source": [
    "#or called by 'item' in the list\n",
    "print(presidents.index(['James Madison', 1809, 1817]))"
   ]
  },
  {
   "cell_type": "code",
   "execution_count": null,
   "metadata": {},
   "outputs": [],
   "source": [
    "print(presidents.index(['james madison', 1809, 1817]))"
   ]
  },
  {
   "cell_type": "code",
   "execution_count": null,
   "metadata": {},
   "outputs": [],
   "source": [
    "scores = [100, 99, 89, 99, 78]  #only count the 1st encounter\n",
    "print(scores.index(99))"
   ]
  },
  {
   "cell_type": "code",
   "execution_count": null,
   "metadata": {},
   "outputs": [],
   "source": [
    "clothes = ['shirts', 'jacket', 'pants', 'shorts']\n",
    "org_clothes = clothes\n",
    "clothes.append('coat')"
   ]
  },
  {
   "cell_type": "code",
   "execution_count": null,
   "metadata": {},
   "outputs": [],
   "source": [
    "#check reference\n",
    "print(clothes)\n",
    "print()\n",
    "print(org_clothes)"
   ]
  },
  {
   "cell_type": "code",
   "execution_count": null,
   "metadata": {},
   "outputs": [],
   "source": [
    "#use .copy() method instead..\n",
    "#original list is unchanged.\n",
    "\n",
    "clothes = ['shirts', 'jacket', 'pants', 'shorts']\n",
    "org_clothes = clothes.copy()\n",
    "clothes.append('coat')\n",
    "\n",
    "print(clothes)\n",
    "print()\n",
    "print(org_clothes)"
   ]
  },
  {
   "cell_type": "markdown",
   "metadata": {},
   "source": [
    "### Exercise 2\n",
    "    1. Ask a user for 2 numbers. \n",
    "    2. Generate 5 random numbers between those 2 numbers and save it to a list called nos1. \n",
    "    3. Generate 3 random numbers between those 2 numbers and save it to a list called nos2. \n",
    "    4. Make a copy of nos1 and save it to variable called all_nos.\n",
    "    5. Extend nos2 to the end of nos1.\n",
    "    6. Print original 5 random numbers, 3 random numbers, and all 8 numbers.\n",
    "    "
   ]
  },
  {
   "cell_type": "code",
   "execution_count": null,
   "metadata": {},
   "outputs": [],
   "source": [
    "# ask a user for 2 numbers - do you need to import anything?\n",
    "enter1 = int(input(\"Please enter the first number:  \"))\n",
    "enter2 = int(input(\"Please enter the second number:  \"))"
   ]
  },
  {
   "cell_type": "code",
   "execution_count": null,
   "metadata": {},
   "outputs": [],
   "source": [
    "# generate 5 random numbers between those 2 numbers and save it to a list called nos1\n",
    "import random as rand\n",
    "\n",
    "#simple code to genterate random numbers\n",
    "nos0 = []\n",
    "nos0.append(rand.randint(5,10))\n",
    "print(nos0)"
   ]
  },
  {
   "cell_type": "code",
   "execution_count": null,
   "metadata": {},
   "outputs": [],
   "source": [
    "#code # generate 5 random numbers between those 2 numbers and save it to a list called nos1\n",
    "nos1 = []\n",
    "nos1.append(rand.randint(enter1, enter2))\n",
    "nos1.append(rand.randint(enter1, enter2))\n",
    "nos1.append(rand.randint(enter1, enter2))\n",
    "nos1.append(rand.randint(enter1, enter2))\n",
    "nos1.append(rand.randint(enter1, enter2))"
   ]
  },
  {
   "cell_type": "code",
   "execution_count": null,
   "metadata": {},
   "outputs": [],
   "source": [
    "# generate 3 random numbers between those 2 numbers and save it to a list called nos2\n",
    "\n",
    "nos2 = []\n",
    "nos2.append(rand.randint(enter1, enter2))\n",
    "nos2.append(rand.randint(enter1, enter2))\n",
    "nos2.append(rand.randint(enter1, enter2))"
   ]
  },
  {
   "cell_type": "code",
   "execution_count": null,
   "metadata": {},
   "outputs": [],
   "source": [
    "# copy nos1 and save to all_nos variable\n",
    "\n",
    "all_nos = nos1.copy()"
   ]
  },
  {
   "cell_type": "code",
   "execution_count": null,
   "metadata": {},
   "outputs": [],
   "source": [
    "# extend nos2 to the end of all_nos\n",
    "\n",
    "all_nos.extend(nos2)"
   ]
  },
  {
   "cell_type": "code",
   "execution_count": null,
   "metadata": {},
   "outputs": [],
   "source": [
    "# print original 5 random numbers, 3 random numbers, and all 8 numbers\n",
    "\n",
    "print(f\"5 random numbers: {nos1}\")\n",
    "print(f\"3 random numbers: {nos2}\")\n",
    "print(f\"All random numbers: {all_nos}\")"
   ]
  },
  {
   "cell_type": "code",
   "execution_count": null,
   "metadata": {},
   "outputs": [],
   "source": [
    "#my code\n",
    "print(f\"The original 5 random numbers: {nos1}\")\n",
    "print(f\"I\\'m the next 3 random number: {nos2}\")\n",
    "print(f\"All random number: {all_nos}\")"
   ]
  },
  {
   "cell_type": "markdown",
   "metadata": {},
   "source": [
    "### List Methods\n",
    "remove item in a list"
   ]
  },
  {
   "cell_type": "code",
   "execution_count": null,
   "metadata": {},
   "outputs": [],
   "source": [
    "# pop() #not index argument(default) will remove the last ipem and ***return\n",
    "\n",
    "clothes = ['shirts', 'jacket', 'pants', 'shorts', 'coat']\n",
    "org_clothes = clothes.copy()\n",
    "x = clothes"
   ]
  },
  {
   "cell_type": "code",
   "execution_count": null,
   "metadata": {},
   "outputs": [],
   "source": [
    "#return to \"item\" variable\n",
    "\n",
    "item = clothes.pop()\n",
    "print(item)\n",
    "print(clothes)"
   ]
  },
  {
   "cell_type": "code",
   "execution_count": null,
   "metadata": {},
   "outputs": [],
   "source": [
    "x"
   ]
  },
  {
   "cell_type": "code",
   "execution_count": null,
   "metadata": {},
   "outputs": [],
   "source": [
    "item = clothes.pop(2)\n",
    "print(item)\n",
    "print(clothes)"
   ]
  },
  {
   "cell_type": "code",
   "execution_count": null,
   "metadata": {},
   "outputs": [],
   "source": [
    "# remove() \n",
    "\n",
    "clothes.remove(\"jacket\")\n",
    "print(clothes)"
   ]
  },
  {
   "cell_type": "code",
   "execution_count": null,
   "metadata": {},
   "outputs": [],
   "source": [
    "clothes.append(item)\n",
    "clothes.insert(1, item)\n",
    "clothes.append(item)\n",
    "print(clothes)"
   ]
  },
  {
   "cell_type": "code",
   "execution_count": null,
   "metadata": {},
   "outputs": [],
   "source": [
    "clothes.remove(\"pants\")\n",
    "print(clothes)"
   ]
  },
  {
   "cell_type": "code",
   "execution_count": null,
   "metadata": {},
   "outputs": [],
   "source": [
    "clothes.remove(\"jacket\")"
   ]
  },
  {
   "cell_type": "code",
   "execution_count": null,
   "metadata": {},
   "outputs": [],
   "source": [
    "\"aple\" in \"apple pie\""
   ]
  },
  {
   "cell_type": "code",
   "execution_count": null,
   "metadata": {},
   "outputs": [],
   "source": [
    "clothes"
   ]
  },
  {
   "cell_type": "code",
   "execution_count": null,
   "metadata": {},
   "outputs": [],
   "source": [
    "# count() ***return the number of item occurrence in the list\n",
    "\n",
    "\"pants\" in clothes"
   ]
  },
  {
   "cell_type": "code",
   "execution_count": null,
   "metadata": {},
   "outputs": [],
   "source": [
    "clothes.count(\"pants\")"
   ]
  },
  {
   "cell_type": "code",
   "execution_count": null,
   "metadata": {},
   "outputs": [],
   "source": [
    "clothes.count(\"jacket\")"
   ]
  },
  {
   "cell_type": "code",
   "execution_count": null,
   "metadata": {},
   "outputs": [],
   "source": [
    "# list method: sort() doesn't return value, ***change original list\n",
    "# will sort the list in an asscending order (default)\n",
    "# \"reverse\" if passing argument \"reverse=True\"\n",
    "\n",
    "names = ['elmo', 'big bird', '1', '9', '$', 'count', 'Count'] # this can be sort because it all \"string\" type\n",
    "org_names = names.copy()\n",
    "names.sort() \n",
    "\n",
    "print(f\"names:     {names}\")\n",
    "print(f\"org_names: {org_names}\")"
   ]
  },
  {
   "cell_type": "code",
   "execution_count": null,
   "metadata": {},
   "outputs": [],
   "source": [
    "names = org_names.copy()\n",
    "names.sort(reverse=True) #sort reverse\n",
    "\n",
    "print(f\"names:     {names}\")\n",
    "print(f\"org_names: {org_names}\")"
   ]
  },
  {
   "cell_type": "code",
   "execution_count": null,
   "metadata": {},
   "outputs": [],
   "source": [
    "# sorted() built-in function *** willl not change the original index list\n",
    "#***return from iterables(string, list, tuple) \n",
    "#asscending order (default)\n",
    "# \"reverse\" if passing argument \"reverse=True\"\n",
    "\n",
    "names = org_names.copy()\n",
    "print(f\"Before: {names}\")\n",
    "ordered = sorted(names)\n",
    "print(f\"After:  {ordered}\")"
   ]
  },
  {
   "cell_type": "code",
   "execution_count": null,
   "metadata": {},
   "outputs": [],
   "source": [
    "president1 = president1\n",
    "print(f\"Before: {president1}\")\n",
    "ordered = sorted(president1)\n",
    "print(f\"After:  {ordered}\")\n"
   ]
  },
  {
   "cell_type": "code",
   "execution_count": null,
   "metadata": {},
   "outputs": [],
   "source": [
    "presidents = [['George Washington', 1789, 1797], \n",
    "              ['Thomas Jefferson', 1801, 1809], \n",
    "              ['John Adams', 1797, 1801]]\n",
    "\n",
    "print(f\"Before: {presidents}\")\n",
    "ordered = sorted(presidents)\n",
    "print(f\"After:  {ordered}\")"
   ]
  },
  {
   "cell_type": "code",
   "execution_count": null,
   "metadata": {},
   "outputs": [],
   "source": [
    "l1 = [ 1, 11, 111]\n",
    "l2 = [1, 12]\n",
    "l3 = [1, 12, 124]\n",
    "\n",
    "test = [l2, l1, l3]\n",
    "org_test = test.copy()"
   ]
  },
  {
   "cell_type": "code",
   "execution_count": null,
   "metadata": {},
   "outputs": [],
   "source": [
    "print(f\"Before: {test}\")\n",
    "ordered = sorted(test)\n",
    "print(f\"After:  {ordered}\")"
   ]
  },
  {
   "cell_type": "code",
   "execution_count": null,
   "metadata": {},
   "outputs": [],
   "source": [
    "# list is a \"mutable\" (,but not the data type it self = str, int, float)\n",
    "\n",
    "def replace(sample, index) :\n",
    "    sample[index] = '*'\n",
    "    \n",
    "orig = [1, 2, 3]  \n",
    "print(orig)\n",
    "replace(orig, 1)\n",
    "print(orig)\n",
    "    "
   ]
  },
  {
   "cell_type": "code",
   "execution_count": null,
   "metadata": {},
   "outputs": [],
   "source": [
    "def xfer(arg1, arg2) :\n",
    "    print(f\"entered xfer():arg1={arg1}, arg2={arg2}\")\n",
    "    temp = arg1 \n",
    "    arg1 = arg2 \n",
    "    arg2 = temp \n",
    "    print(f\"exiting xfer():arg1={arg1}, arg2={arg2}\")\n",
    "    \n",
    "x = 5         \n",
    "y = [1, 2, 3] \n",
    "xfer(x, y)\n",
    "\n",
    "print(x, y, sep=\"\\n\") "
   ]
  },
  {
   "cell_type": "code",
   "execution_count": null,
   "metadata": {},
   "outputs": [],
   "source": [
    "\n",
    "def xfer2(arg1, arg2) :\n",
    "    print(f\"entered xfer2():arg1={arg1}, arg2={arg2}\")\n",
    "    arg1 *= 2\n",
    "    arg2[0] = arg1 #list y is mutable\n",
    "    print(f\"exiting xfer2():arg1={arg1}, arg2={arg2}\")\n",
    "    \n",
    "    \n",
    "x = 5\n",
    "y = [1, 2, 3]\n",
    "xfer2(x, y)\n",
    "\n",
    "print(f\"\\nx={x} y={y}\") "
   ]
  },
  {
   "cell_type": "markdown",
   "metadata": {},
   "source": [
    "### Exercise 3\n",
    "Get 7 book tittles from a user and save it in a list.\n",
    "Then, remove the title in the middle of the list after sorting them alphabetically. \n",
    "Display the original tittles, sorted tittles, and titles after removing one."
   ]
  },
  {
   "cell_type": "code",
   "execution_count": null,
   "metadata": {},
   "outputs": [],
   "source": []
  },
  {
   "cell_type": "markdown",
   "metadata": {},
   "source": [
    "### Tuple\n",
    "tuple similar to list \"collection of items\", but tuple is unchangable. This means List is dynamic while Tuple is static. In Python, tuple execution is bit faster than lists. And, Tuple use (), instead of [ ]\n",
    "You can access, but you can not change items."
   ]
  },
  {
   "cell_type": "code",
   "execution_count": null,
   "metadata": {},
   "outputs": [],
   "source": [
    "week = ('M', 'T', 'W', 'Th', 'F', 'Sa', 'Su')\n",
    "print(week[3])"
   ]
  },
  {
   "cell_type": "code",
   "execution_count": null,
   "metadata": {},
   "outputs": [],
   "source": [
    "print(week[-2])"
   ]
  },
  {
   "cell_type": "code",
   "execution_count": null,
   "metadata": {},
   "outputs": [],
   "source": [
    "print(week[::2])"
   ]
  },
  {
   "cell_type": "code",
   "execution_count": null,
   "metadata": {},
   "outputs": [],
   "source": [
    "hobbies = (\"hiking\", \"tennis\", \"foodie\")\n",
    "print(hobbies[2])\n",
    "print(hobbies[5])"
   ]
  },
  {
   "cell_type": "code",
   "execution_count": null,
   "metadata": {},
   "outputs": [],
   "source": [
    "hobbies[2] = \"binge watching\"\n",
    "print(hobbies)"
   ]
  },
  {
   "cell_type": "code",
   "execution_count": null,
   "metadata": {},
   "outputs": [],
   "source": [
    "items = ()\n",
    "print(type(items)) \n",
    "print(len(items))  "
   ]
  },
  {
   "cell_type": "code",
   "execution_count": null,
   "metadata": {},
   "outputs": [],
   "source": [
    "items2 = (\"one\")\n",
    "print(type(items2))\n",
    "print(len(items2)) "
   ]
  },
  {
   "cell_type": "code",
   "execution_count": null,
   "metadata": {},
   "outputs": [],
   "source": [
    "\n",
    "items3 = (\"one\",) # this one has , so it is Tuple not string\n",
    "print(type(items3))\n",
    "print(len(items3))\n"
   ]
  },
  {
   "cell_type": "code",
   "execution_count": null,
   "metadata": {},
   "outputs": [],
   "source": [
    "# tuple with multiple items\n",
    "\n",
    "items4 = (\"one\", \"two\") # or (\"one\", \"two\",) works too\n",
    "print(type(items4))\n",
    "print(len(items4))\n"
   ]
  },
  {
   "cell_type": "code",
   "execution_count": null,
   "metadata": {},
   "outputs": [],
   "source": [
    "scores = (99, 87, 79, 88, 88, 100)\n",
    "names = (\"Rachel\", \"Monica\", \"Phoebe\", \"Joey\", \"Chandler\", \"Ross\")\n",
    "sample = (\"jacket\", \"M\", 20, 9.99) \n",
    "\n",
    "print(scores)\n",
    "print(names)\n",
    "print(sample)"
   ]
  },
  {
   "cell_type": "code",
   "execution_count": null,
   "metadata": {},
   "outputs": [],
   "source": [
    "demo = tuple(('3-22', '4-30', '5-11', '12-18'))\n",
    "print(demo)\n",
    "print(type(demo))\n",
    "print(len(demo))"
   ]
  },
  {
   "cell_type": "code",
   "execution_count": null,
   "metadata": {},
   "outputs": [],
   "source": [
    "demo2 = list(('3-22', '4-30', '5-11', '12-18')) now change to list [ ]\n",
    "print(demo2)\n",
    "print(type(demo2))\n",
    "print(len(demo2))"
   ]
  },
  {
   "cell_type": "code",
   "execution_count": null,
   "metadata": {},
   "outputs": [],
   "source": [
    "# list() & tuple() built-in function  # you can convert/change back and fort from \"list\" to \"tuple\"\n",
    "\n",
    "hobbies_list = list(hobbies)\n",
    "print(hobbies)  # still Tuple\n",
    "print(hobbies_list) # still List"
   ]
  },
  {
   "cell_type": "code",
   "execution_count": null,
   "metadata": {},
   "outputs": [],
   "source": [
    "hobbies_list[2] = \"binge watching\"  \n",
    "print(hobbies_list)"
   ]
  },
  {
   "cell_type": "code",
   "execution_count": null,
   "metadata": {},
   "outputs": [],
   "source": [
    "hobbies_tuple = tuple(hobbies_list) #now change back to Tuple\n",
    "print(hobbies_list)  #list\n",
    "print(hobbies_tuple) #tuple"
   ]
  },
  {
   "cell_type": "markdown",
   "metadata": {},
   "source": [
    "### Repetition Statement - Loop"
   ]
  },
  {
   "cell_type": "code",
   "execution_count": null,
   "metadata": {},
   "outputs": [],
   "source": [
    "\n",
    "for item in [1, 2, 3, 4, 5] :\n",
    "    print(item)"
   ]
  },
  {
   "cell_type": "code",
   "execution_count": null,
   "metadata": {},
   "outputs": [],
   "source": [
    "print(clothes)\n",
    "for item in clothes :\n",
    "    print(f\"I have {item}\") \n",
    "print(\"Done!\")    "
   ]
  },
  {
   "cell_type": "code",
   "execution_count": null,
   "metadata": {},
   "outputs": [],
   "source": [
    "\n",
    "for item in (1, 2, 3, 4, 5) :\n",
    "    print(item)\n",
    "    \n",
    "print(\"Done!\") "
   ]
  },
  {
   "cell_type": "code",
   "execution_count": null,
   "metadata": {},
   "outputs": [],
   "source": [
    "for item in \"apple\" : \n",
    "    print(item)\n",
    "    \n",
    "print(\"Done!\") "
   ]
  },
  {
   "cell_type": "code",
   "execution_count": null,
   "metadata": {},
   "outputs": [],
   "source": [
    "\n",
    "for item in range(1, 11) :  \n",
    "    print(item)"
   ]
  },
  {
   "cell_type": "code",
   "execution_count": null,
   "metadata": {},
   "outputs": [],
   "source": [
    "\n",
    "for item in range(1, 11, 2) :\n",
    "    print(item)"
   ]
  },
  {
   "cell_type": "code",
   "execution_count": null,
   "metadata": {},
   "outputs": [],
   "source": [
    "dwarves = [\"Happy\", \"Grumpy\", \"Sleepy\", \"Bashful\", \"Sneezy\", \"Doc\", \"Dopey\"]\n",
    "\n",
    "print(f\"\\nThere are {len(dwarves)} dwarves and Snow White\")\n",
    "for dwarf in dwarves : \n",
    "    print(dwarf)\n",
    "    "
   ]
  },
  {
   "cell_type": "code",
   "execution_count": null,
   "metadata": {},
   "outputs": [],
   "source": [
    "4101.00501 + 1000 + ((4101.00501 + 1000) * 0.01)  # 5th year"
   ]
  },
  {
   "cell_type": "code",
   "execution_count": null,
   "metadata": {},
   "outputs": [],
   "source": []
  }
 ],
 "metadata": {
  "kernelspec": {
   "display_name": "Python 3",
   "language": "python",
   "name": "python3"
  },
  "language_info": {
   "codemirror_mode": {
    "name": "ipython",
    "version": 3
   },
   "file_extension": ".py",
   "mimetype": "text/x-python",
   "name": "python",
   "nbconvert_exporter": "python",
   "pygments_lexer": "ipython3",
   "version": "3.8.5"
  }
 },
 "nbformat": 4,
 "nbformat_minor": 2
}
